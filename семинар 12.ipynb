{
 "cells": [
  {
   "cell_type": "markdown",
   "id": "44cc78b6",
   "metadata": {},
   "source": [
    "1) При помощи стека (можно использовать любую реализацию стека, например, из лекции) проверить, что в строке, содержащей большой фрагмент кода на python, корректно открываются и закрываются скобки '(' и ')'. Заводить какие-либо счетчики и вообще вести подсчет скобок запрещено. \n",
    "Например, в следующей строке корректное количество скобок: \n",
    "'((dsasdas((das(d)das)d)asd)da)' \n",
    "А вот в следующей закрывающих больше, чем открывающих:\n",
    "'(f(gfhd((hgfdg((fghh)dads)das))ds)adddads())))' \n"
   ]
  },
  {
   "cell_type": "code",
   "execution_count": 1,
   "id": "3654427c",
   "metadata": {},
   "outputs": [
    {
     "name": "stdout",
     "output_type": "stream",
     "text": [
      "True\n",
      "False\n"
     ]
    }
   ],
   "source": [
    "class Stack:\n",
    "    def __init__(self):\n",
    "        self.items = []\n",
    "\n",
    "    def is_empty(self):\n",
    "        return len(self.items) == 0\n",
    "\n",
    "    def push(self, item):\n",
    "        self.items.append(item)\n",
    "\n",
    "    def pop(self):\n",
    "        if not self.is_empty():\n",
    "            return self.items.pop()\n",
    "        else:\n",
    "            raise IndexError(\"pop from empty stack\")\n",
    "\n",
    "    def top(self):\n",
    "        if not self.is_empty():\n",
    "            return self.items[-1]\n",
    "        else:\n",
    "            raise IndexError(\"stack is empty\")\n",
    "\n",
    "def check_parentheses(expression):\n",
    "    stack = Stack()\n",
    "    for char in expression:\n",
    "        if char == '(':\n",
    "            stack.push(char)\n",
    "        elif char == ')':\n",
    "            try:\n",
    "                stack.pop()\n",
    "            except IndexError:\n",
    "                return False\n",
    "    return stack.is_empty()\n",
    "\n",
    "# Пример использования\n",
    "expression1 = '((dsasdas((das(d)das)d)asd)da)'\n",
    "expression2 = '(f(gfhd((hgfdg((fghh)dads)das))ds)adddads())))'\n",
    "\n",
    "print(check_parentheses(expression1))  # True\n",
    "print(check_parentheses(expression2))  # False\n"
   ]
  },
  {
   "cell_type": "markdown",
   "id": "148fc67c",
   "metadata": {},
   "source": [
    "2) С помощью списка (list) реализовать стек. При создании стека нужно передать максимальную длину стека. В случае попытки добавления элемента, приводящего к превышению емкости стека возвращать ошибку. \n",
    "Стек должен поддерживать следующие операции: \n",
    "S.push(e): добавление элемента e на вершину стека S. \n",
    "S.pop(): удаляет и возвращает верхний элемент стека S. Если стек пуст, то возникает ошибка. \n",
    "S.top(): возвращает верхний элемент стека S, не удаляя его. Если стек пуст, то возникает ошибка. \n",
    "S.is_empty( ): возвращает True если стек S не содержит ни одного элемента. \n",
    "len(S): возвращает текущеее количество элементов в стеке S. \n",
    "\n"
   ]
  },
  {
   "cell_type": "code",
   "execution_count": 2,
   "id": "a9a8a32b",
   "metadata": {},
   "outputs": [
    {
     "name": "stdout",
     "output_type": "stream",
     "text": [
      "2\n",
      "2\n",
      "1\n",
      "True\n"
     ]
    }
   ],
   "source": [
    "class Stack:\n",
    "    def __init__(self, max_size):\n",
    "        self.items = []\n",
    "        self.max_size = max_size\n",
    "\n",
    "    def is_empty(self):\n",
    "        return len(self.items) == 0\n",
    "\n",
    "    def push(self, item):\n",
    "        if len(self.items) < self.max_size:\n",
    "            self.items.append(item)\n",
    "        else:\n",
    "            raise IndexError(\"stack overflow\")\n",
    "\n",
    "    def pop(self):\n",
    "        if not self.is_empty():\n",
    "            return self.items.pop()\n",
    "        else:\n",
    "            raise IndexError(\"pop from empty stack\")\n",
    "\n",
    "    def top(self):\n",
    "        if not self.is_empty():\n",
    "            return self.items[-1]\n",
    "        else:\n",
    "            raise IndexError(\"stack is empty\")\n",
    "\n",
    "    def __len__(self):\n",
    "        return len(self.items)\n",
    "\n",
    "# Пример использования\n",
    "s = Stack(5)\n",
    "s.push(1)\n",
    "s.push(2)\n",
    "print(len(s))  # 2\n",
    "print(s.pop())  # 2\n",
    "print(s.pop())  # 1\n",
    "print(s.is_empty())  # True\n"
   ]
  },
  {
   "cell_type": "markdown",
   "id": "9c131903",
   "metadata": {},
   "source": [
    "3) Реализовать класс однонаправленного связанного списка.  "
   ]
  },
  {
   "cell_type": "code",
   "execution_count": 3,
   "id": "40923d34",
   "metadata": {},
   "outputs": [],
   "source": [
    "class Node:\n",
    "    def __init__(self, data=None):\n",
    "        self.data = data\n",
    "        self.next = None\n",
    "\n",
    "class LinkedList:\n",
    "    def __init__(self):\n",
    "        self.head = None\n",
    "\n",
    "    def add_first(self, data):\n",
    "        new_node = Node(data)\n",
    "        new_node.next = self.head\n",
    "        self.head = new_node\n",
    "\n",
    "# Пример использования\n",
    "ll = LinkedList()\n",
    "ll.add_first(1)\n",
    "ll.add_first(2)\n"
   ]
  },
  {
   "cell_type": "markdown",
   "id": "2b1844d3",
   "metadata": {},
   "source": [
    "3.1) Реализовать метод добавления элемента в начало списка.  "
   ]
  },
  {
   "cell_type": "code",
   "execution_count": 12,
   "id": "d8ca0879",
   "metadata": {},
   "outputs": [
    {
     "name": "stdout",
     "output_type": "stream",
     "text": [
      "2\n",
      "2\n",
      "1\n",
      "True\n"
     ]
    }
   ],
   "source": [
    "class Stack:\n",
    "    def __init__(self, max_size):\n",
    "        self.items = []\n",
    "        self.max_size = max_size\n",
    "\n",
    "    def is_empty(self):\n",
    "        return len(self.items) == 0\n",
    "\n",
    "    def push(self, item):\n",
    "        if len(self.items) < self.max_size:\n",
    "            self.items.append(item)\n",
    "        else:\n",
    "            raise IndexError(\"stack overflow\")\n",
    "\n",
    "    def pop(self):\n",
    "        if not self.is_empty():\n",
    "            return self.items.pop()\n",
    "        else:\n",
    "            raise IndexError(\"pop from empty stack\")\n",
    "\n",
    "    def top(self):\n",
    "        if not self.is_empty():\n",
    "            return self.items[-1]\n",
    "        else:\n",
    "            raise IndexError(\"stack is empty\")\n",
    "\n",
    "    def __len__(self):\n",
    "        return len(self.items)\n",
    "\n",
    "# Пример использования\n",
    "s = Stack(5)\n",
    "s.push(1)\n",
    "s.push(2)\n",
    "print(len(s))  # 2\n",
    "print(s.pop())  # 2\n",
    "print(s.pop())  # 1\n",
    "print(s.is_empty())  # True\n"
   ]
  },
  {
   "cell_type": "markdown",
   "id": "25b225af",
   "metadata": {},
   "source": [
    "4) На базе класса однонаправленного связанного списка реализовать двунаправленный связанный список.  "
   ]
  },
  {
   "cell_type": "code",
   "execution_count": 11,
   "id": "23f9620a",
   "metadata": {},
   "outputs": [
    {
     "name": "stdout",
     "output_type": "stream",
     "text": [
      "None\n",
      "None\n"
     ]
    }
   ],
   "source": [
    "class Node:\n",
    "    def __init__(self, data=None):\n",
    "        self.data = data\n",
    "        self.next = None\n",
    "\n",
    "class LinkedList:\n",
    "    def __init__(self):\n",
    "        self.head = None\n",
    "\n",
    "    def add_first(self, data):\n",
    "        new_node = Node(data)\n",
    "        new_node.next = self.head\n",
    "        self.head = new_node\n",
    "\n",
    "# Пример использования\n",
    "ll = LinkedList()\n",
    "ll.add_first(1)\n",
    "ll.add_first(1)\n",
    "print(ll.add_first(1))\n",
    "print(ll.add_first(1))"
   ]
  },
  {
   "cell_type": "markdown",
   "id": "a3897599",
   "metadata": {},
   "source": [
    "4.1) Реализовать метод добавления элемента в начало списка.  "
   ]
  },
  {
   "cell_type": "code",
   "execution_count": 9,
   "id": "e7dbe49f",
   "metadata": {},
   "outputs": [
    {
     "name": "stdout",
     "output_type": "stream",
     "text": [
      "None\n",
      "None\n"
     ]
    }
   ],
   "source": [
    "class DoublyLinkedListNode:\n",
    "    def __init__(self, data=None):\n",
    "        self.data = data\n",
    "        self.next = None\n",
    "        self.prev = None\n",
    "\n",
    "class DoublyLinkedList:\n",
    "    def __init__(self):\n",
    "        self.head = None\n",
    "\n",
    "    def add_first(self, data):\n",
    "        new_node = DoublyLinkedListNode(data)\n",
    "        if self.head:\n",
    "            self.head.prev = new_node\n",
    "        new_node.next = self.head\n",
    "        self.head = new_node\n",
    "\n",
    "# Пример использования\n",
    "dll = DoublyLinkedList()\n",
    "dll.add_first(1)\n",
    "dll.add_first(2)\n",
    "print(dll.add_first(1))\n",
    "print(dll.add_first(2))"
   ]
  },
  {
   "cell_type": "markdown",
   "id": "6dbd0dcd",
   "metadata": {},
   "source": [
    "5) При помощи класса связанного списка реализовать очередь."
   ]
  },
  {
   "cell_type": "code",
   "execution_count": 4,
   "id": "45c159cd",
   "metadata": {},
   "outputs": [
    {
     "name": "stdout",
     "output_type": "stream",
     "text": [
      "1\n",
      "2\n"
     ]
    }
   ],
   "source": [
    "class Queue:\n",
    "    def __init__(self):\n",
    "        self.items = LinkedList()\n",
    "\n",
    "    def is_empty(self):\n",
    "        return self.items.head is None\n",
    "\n",
    "    def enqueue(self, item):\n",
    "        self.items.add_first(item)\n",
    "\n",
    "    def dequeue(self):\n",
    "        if self.is_empty():\n",
    "            raise IndexError(\"dequeue from empty queue\")\n",
    "        current = self.items.head\n",
    "        prev = None\n",
    "        while current.next:\n",
    "            prev = current\n",
    "            current = current.next\n",
    "        if prev:\n",
    "            prev.next = None\n",
    "        else:\n",
    "            self.items.head = None\n",
    "        return current.data\n",
    "\n",
    "# Пример использования\n",
    "q = Queue()\n",
    "q.enqueue(1)\n",
    "q.enqueue(2)\n",
    "print(q.dequeue())  # 1\n",
    "print(q.dequeue())  # 2\n"
   ]
  },
  {
   "cell_type": "code",
   "execution_count": null,
   "id": "cf51a376",
   "metadata": {},
   "outputs": [],
   "source": []
  }
 ],
 "metadata": {
  "kernelspec": {
   "display_name": "Python 3 (ipykernel)",
   "language": "python",
   "name": "python3"
  },
  "language_info": {
   "codemirror_mode": {
    "name": "ipython",
    "version": 3
   },
   "file_extension": ".py",
   "mimetype": "text/x-python",
   "name": "python",
   "nbconvert_exporter": "python",
   "pygments_lexer": "ipython3",
   "version": "3.9.13"
  }
 },
 "nbformat": 4,
 "nbformat_minor": 5
}
