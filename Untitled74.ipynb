{
 "cells": [
  {
   "cell_type": "code",
   "execution_count": 1,
   "id": "1bcddbfa",
   "metadata": {},
   "outputs": [
    {
     "ename": "TypeError",
     "evalue": "'<=' not supported between instances of 'int' and 'str'",
     "output_type": "error",
     "traceback": [
      "\u001b[1;31m---------------------------------------------------------------------------\u001b[0m",
      "\u001b[1;31mTypeError\u001b[0m                                 Traceback (most recent call last)",
      "\u001b[1;32m~\\AppData\\Local\\Temp\\ipykernel_20884\\1066065568.py\u001b[0m in \u001b[0;36m<module>\u001b[1;34m\u001b[0m\n\u001b[0;32m     55\u001b[0m \u001b[1;33m\u001b[0m\u001b[0m\n\u001b[0;32m     56\u001b[0m \u001b[1;31m# Пример использования\u001b[0m\u001b[1;33m\u001b[0m\u001b[1;33m\u001b[0m\u001b[0m\n\u001b[1;32m---> 57\u001b[1;33m \u001b[0mresult\u001b[0m \u001b[1;33m=\u001b[0m \u001b[0mcalc\u001b[0m\u001b[1;33m(\u001b[0m\u001b[1;34m\"сорок один и тридцать одна сотая разделить на семнадцать\"\u001b[0m\u001b[1;33m)\u001b[0m\u001b[1;33m\u001b[0m\u001b[1;33m\u001b[0m\u001b[0m\n\u001b[0m\u001b[0;32m     58\u001b[0m \u001b[0mprint\u001b[0m\u001b[1;33m(\u001b[0m\u001b[0mresult\u001b[0m\u001b[1;33m)\u001b[0m  \u001b[1;31m# Вывод: \"два и сорок три сотых\"\u001b[0m\u001b[1;33m\u001b[0m\u001b[1;33m\u001b[0m\u001b[0m\n",
      "\u001b[1;32m~\\AppData\\Local\\Temp\\ipykernel_20884\\1066065568.py\u001b[0m in \u001b[0;36mcalc\u001b[1;34m(expression)\u001b[0m\n\u001b[0;32m     27\u001b[0m             \u001b[0mnum2\u001b[0m \u001b[1;33m=\u001b[0m \u001b[1;34m' '\u001b[0m\u001b[1;33m.\u001b[0m\u001b[0mjoin\u001b[0m\u001b[1;33m(\u001b[0m\u001b[0mnumbers\u001b[0m\u001b[1;33m[\u001b[0m\u001b[0mi\u001b[0m\u001b[1;33m+\u001b[0m\u001b[1;36m1\u001b[0m\u001b[1;33m:\u001b[0m\u001b[1;33m]\u001b[0m\u001b[1;33m)\u001b[0m\u001b[1;33m\u001b[0m\u001b[1;33m\u001b[0m\u001b[0m\n\u001b[0;32m     28\u001b[0m \u001b[1;33m\u001b[0m\u001b[0m\n\u001b[1;32m---> 29\u001b[1;33m     \u001b[0mnum1\u001b[0m \u001b[1;33m=\u001b[0m \u001b[0mnumber_to_word\u001b[0m\u001b[1;33m(\u001b[0m\u001b[0mnum1\u001b[0m\u001b[1;33m)\u001b[0m\u001b[1;33m\u001b[0m\u001b[1;33m\u001b[0m\u001b[0m\n\u001b[0m\u001b[0;32m     30\u001b[0m     \u001b[0mnum2\u001b[0m \u001b[1;33m=\u001b[0m \u001b[0mnumber_to_word\u001b[0m\u001b[1;33m(\u001b[0m\u001b[0mnum2\u001b[0m\u001b[1;33m)\u001b[0m\u001b[1;33m\u001b[0m\u001b[1;33m\u001b[0m\u001b[0m\n\u001b[0;32m     31\u001b[0m \u001b[1;33m\u001b[0m\u001b[0m\n",
      "\u001b[1;32m~\\AppData\\Local\\Temp\\ipykernel_20884\\1066065568.py\u001b[0m in \u001b[0;36mnumber_to_word\u001b[1;34m(num)\u001b[0m\n\u001b[0;32m      4\u001b[0m              19: 'девятнадцать', 20: 'двадцать', 30: 'тридцать', 40: 'сорок', 50: 'пятьдесят', 60: 'шестьдесят', 70: 'семьдесят', 80: 'восемьдесят', 90: 'девяносто'}\n\u001b[0;32m      5\u001b[0m \u001b[1;33m\u001b[0m\u001b[0m\n\u001b[1;32m----> 6\u001b[1;33m     \u001b[1;32mif\u001b[0m \u001b[1;36m0\u001b[0m \u001b[1;33m<=\u001b[0m \u001b[0mnum\u001b[0m \u001b[1;33m<=\u001b[0m \u001b[1;36m20\u001b[0m\u001b[1;33m:\u001b[0m\u001b[1;33m\u001b[0m\u001b[1;33m\u001b[0m\u001b[0m\n\u001b[0m\u001b[0;32m      7\u001b[0m         \u001b[1;32mreturn\u001b[0m \u001b[0mwords\u001b[0m\u001b[1;33m[\u001b[0m\u001b[0mnum\u001b[0m\u001b[1;33m]\u001b[0m\u001b[1;33m\u001b[0m\u001b[1;33m\u001b[0m\u001b[0m\n\u001b[0;32m      8\u001b[0m     \u001b[1;32melse\u001b[0m\u001b[1;33m:\u001b[0m\u001b[1;33m\u001b[0m\u001b[1;33m\u001b[0m\u001b[0m\n",
      "\u001b[1;31mTypeError\u001b[0m: '<=' not supported between instances of 'int' and 'str'"
     ]
    }
   ],
   "source": [
    "def number_to_word(num):\n",
    "    words = {0: 'ноль', 1: 'один', 2: 'два', 3: 'три', 4: 'четыре', 5: 'пять', 6: 'шесть', 7: 'семь', 8: 'восемь', 9: 'девять', 10: 'десять',\n",
    "             11: 'одиннадцать', 12: 'двенадцать', 13: 'тринадцать', 14: 'четырнадцать', 15: 'пятнадцать', 16: 'шестнадцать', 17: 'семнадцать', 18: 'восемнадцать',\n",
    "             19: 'девятнадцать', 20: 'двадцать', 30: 'тридцать', 40: 'сорок', 50: 'пятьдесят', 60: 'шестьдесят', 70: 'семьдесят', 80: 'восемьдесят', 90: 'девяносто'}\n",
    "\n",
    "    if 0 <= num <= 20:\n",
    "        return words[num]\n",
    "    else:\n",
    "        tens = num // 10 * 10\n",
    "        ones = num % 10\n",
    "        if ones:\n",
    "            return words[tens] + ' ' + words[ones]\n",
    "        else:\n",
    "            return words[tens]\n",
    "\n",
    "def calc(expression):\n",
    "    operations = {'плюс': '+', 'минус': '-', 'умножить': '*', 'разделить': '/', 'остаток от деления': '%'}\n",
    "\n",
    "    numbers = expression.split()\n",
    "    num1 = None\n",
    "    num2 = None\n",
    "\n",
    "    for i, word in enumerate(numbers):\n",
    "        if word in operations:\n",
    "            operation = operations[word]\n",
    "            num1 = ' '.join(numbers[:i])\n",
    "            num2 = ' '.join(numbers[i+1:])\n",
    "\n",
    "    num1 = number_to_word(num1)\n",
    "    num2 = number_to_word(num2)\n",
    "\n",
    "    if 'и' in num1:\n",
    "        whole1, fraction1 = num1.split(' и ')\n",
    "        fraction1 = float(fraction1.replace('сотая', '')) / 1000  # обработка дробной части\n",
    "\n",
    "        num1 = float(whole1) + fraction1\n",
    "    else:\n",
    "        num1 = float(number_to_word[num1])\n",
    "\n",
    "    if 'и' in num2:\n",
    "        whole2, fraction2 = num2.split(' и ')\n",
    "        fraction2 = float(fraction2.replace('сотая', '')) / 1000 \n",
    "\n",
    "        num2 = float(whole2) + fraction2\n",
    "    else:\n",
    "        num2 = float(number_to_word[num2])\n",
    "\n",
    "    result = str(eval(str(num1) + operation + str(num2))) \n",
    "\n",
    "    whole, fraction = result.split('.')\n",
    "    if len(fraction) > 3: \n",
    "        fraction = fraction[:3]\n",
    "        result = whole + ' и ' + fraction + \" сотых\"\n",
    "    return result\n",
    "\n",
    "\n",
    "result = calc(\"сорок один и тридцать одна сотая разделить на семнадцать\")\n",
    "print(result) "
   ]
  },
  {
   "cell_type": "code",
   "execution_count": null,
   "id": "f050fa1e",
   "metadata": {},
   "outputs": [],
   "source": []
  }
 ],
 "metadata": {
  "kernelspec": {
   "display_name": "Python 3 (ipykernel)",
   "language": "python",
   "name": "python3"
  },
  "language_info": {
   "codemirror_mode": {
    "name": "ipython",
    "version": 3
   },
   "file_extension": ".py",
   "mimetype": "text/x-python",
   "name": "python",
   "nbconvert_exporter": "python",
   "pygments_lexer": "ipython3",
   "version": "3.9.13"
  }
 },
 "nbformat": 4,
 "nbformat_minor": 5
}
