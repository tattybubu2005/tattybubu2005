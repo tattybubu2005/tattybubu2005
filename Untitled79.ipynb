{
 "cells": [
  {
   "cell_type": "code",
   "execution_count": null,
   "id": "a8bcc09d",
   "metadata": {},
   "outputs": [
    {
     "name": "stdout",
     "output_type": "stream",
     "text": [
      "Добро пожаловать в текстовый калькулятор!\n",
      "Выберите операцию:\n",
      "1. Сложение\n",
      "2. Вычитание\n",
      "3. Умножение\n",
      "4. Выйти\n",
      "Введите номер операции (1-4): 1\n",
      "Введите первое число: 23\n",
      "Введите второе число: 2\n",
      "Результат сложения: 25.0\n",
      "\n",
      "Выберите операцию:\n",
      "1. Сложение\n",
      "2. Вычитание\n",
      "3. Умножение\n",
      "4. Выйти\n",
      "Введите номер операции (1-4): 1\n",
      "Введите первое число: 2\n",
      "Введите второе число: 4\n",
      "Результат сложения: 6.0\n",
      "\n",
      "Выберите операцию:\n",
      "1. Сложение\n",
      "2. Вычитание\n",
      "3. Умножение\n",
      "4. Выйти\n"
     ]
    }
   ],
   "source": [
    "def calculator():\n",
    "    print(\"Добро пожаловать в текстовый калькулятор!\")\n",
    "    \n",
    "    while True:\n",
    "        print(\"Выберите операцию:\")\n",
    "        print(\"1. Сложение\")\n",
    "        print(\"2. Вычитание\")\n",
    "        print(\"3. Умножение\")\n",
    "        print(\"4. Выйти\")\n",
    "        \n",
    "        choice = input(\"Введите номер операции (1-4): \")\n",
    "        \n",
    "        if choice == '4':\n",
    "            print(\"До свидания!\")\n",
    "            break\n",
    "        \n",
    "        num1 = float(input(\"Введите первое число: \"))\n",
    "        num2 = float(input(\"Введите второе число: \"))\n",
    "        \n",
    "        if choice == '1':\n",
    "            result = num1 + num2\n",
    "            print(\"Результат сложения:\", result)\n",
    "        elif choice == '2':\n",
    "            result = num1 - num2\n",
    "            print(\"Результат вычитания:\", result)\n",
    "        elif choice == '3':\n",
    "            result = num1 * num2\n",
    "            print(\"Результат умножения:\", result)\n",
    "        else:\n",
    "            print(\"Некорректный ввод. Попробуйте снова.\")\n",
    "        \n",
    "        print()  # Пустая строка для отделения результатов\n",
    "        \n",
    "calculator()\n"
   ]
  },
  {
   "cell_type": "code",
   "execution_count": null,
   "id": "66f8caee",
   "metadata": {},
   "outputs": [],
   "source": []
  }
 ],
 "metadata": {
  "kernelspec": {
   "display_name": "Python 3 (ipykernel)",
   "language": "python",
   "name": "python3"
  },
  "language_info": {
   "codemirror_mode": {
    "name": "ipython",
    "version": 3
   },
   "file_extension": ".py",
   "mimetype": "text/x-python",
   "name": "python",
   "nbconvert_exporter": "python",
   "pygments_lexer": "ipython3",
   "version": "3.9.13"
  }
 },
 "nbformat": 4,
 "nbformat_minor": 5
}
