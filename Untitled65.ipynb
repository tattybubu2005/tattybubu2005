{
 "cells": [
  {
   "cell_type": "code",
   "execution_count": 6,
   "id": "de7d45fc",
   "metadata": {},
   "outputs": [],
   "source": [
    "l1 = ['1', '123', '123', '12', '1', '123']\n",
    "\n",
    "l2 = [len(x) for x in l1]\n"
   ]
  },
  {
   "cell_type": "code",
   "execution_count": 7,
   "id": "7be0e73b",
   "metadata": {},
   "outputs": [
    {
     "name": "stdout",
     "output_type": "stream",
     "text": [
      "[2, 8, -6, -12, 0, 66, 21, -8]\n"
     ]
    }
   ],
   "source": [
    "#3\n",
    "l2 = [2, 4, -2, -3, 0 , 11 , 3, -1]\n",
    "\n",
    "print([a * (b + 1) for a, b in zip(l2, range(len(l2)))])\n"
   ]
  },
  {
   "cell_type": "code",
   "execution_count": 8,
   "id": "71518a70",
   "metadata": {},
   "outputs": [
    {
     "name": "stdout",
     "output_type": "stream",
     "text": [
      "[2, 4, 0, 11, 3]\n"
     ]
    }
   ],
   "source": [
    "l2 = [2, 4, -2, -3, 0, 11, 3, -1]\n",
    "l3 = [x for x in l2 if x >= 0] \n",
    "print(l3) #[2, 4, 0, 11, 3]\n"
   ]
  },
  {
   "cell_type": "code",
   "execution_count": null,
   "id": "fe133ad7",
   "metadata": {},
   "outputs": [],
   "source": []
  }
 ],
 "metadata": {
  "kernelspec": {
   "display_name": "Python 3 (ipykernel)",
   "language": "python",
   "name": "python3"
  },
  "language_info": {
   "codemirror_mode": {
    "name": "ipython",
    "version": 3
   },
   "file_extension": ".py",
   "mimetype": "text/x-python",
   "name": "python",
   "nbconvert_exporter": "python",
   "pygments_lexer": "ipython3",
   "version": "3.9.13"
  }
 },
 "nbformat": 4,
 "nbformat_minor": 5
}
