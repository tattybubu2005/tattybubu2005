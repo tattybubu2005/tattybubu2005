{
 "cells": [
  {
   "cell_type": "markdown",
   "id": "ad1126ee",
   "metadata": {},
   "source": [
    "10) Написать 4 функции порождения списка целых значений: отсортированного (по возрастанию и убыванию), случайного и почти отсортированного по возрастанию. Каждая функция принимает длину списка в качестве аргумента."
   ]
  },
  {
   "cell_type": "code",
   "execution_count": 5,
   "id": "3b9abfa5",
   "metadata": {},
   "outputs": [
    {
     "name": "stdout",
     "output_type": "stream",
     "text": [
      "Отсортированный список по возрастанию: [1, 2, 3, 4, 5, 6, 7, 8]\n",
      "Отсортированный список по убыванию: [8, 7, 6, 5, 4, 3, 2, 1]\n",
      "Случайный список: [77, 25, 97, 53, 10, 39, 31, 14]\n",
      "Почти отсортированный список по возрастанию: [2, 1, 3, 4, 5, 6, 7, 8]\n"
     ]
    }
   ],
   "source": [
    "\n",
    "import random\n",
    "\n",
    "# Функция для генерации отсортированного списка по возрастанию\n",
    "def sorted_list_asc(length):\n",
    "    return list(range(1, length + 1))\n",
    "\n",
    "# Функция для генерации отсортированного списка по убыванию\n",
    "def sorted_list_desc(length):\n",
    "    return list(range(length, 0, -1))\n",
    "\n",
    "# Функция для генерации случайного списка\n",
    "def random_list(length):\n",
    "    return [random.randint(1, 100) for _ in range(length)]\n",
    "\n",
    "# Функция для генерации почти отсортированного списка по возрастанию\n",
    "def almost_sorted_list(length):\n",
    "    lst = list(range(1, length + 1))\n",
    "    idx1, idx2 = random.sample(range(length), 2)\n",
    "    lst[idx1], lst[idx2] = lst[idx2], lst[idx1]\n",
    "    return lst\n",
    "\n",
    "# Пример использования каждой функции\n",
    "sorted_asc = sorted_list_asc(8)\n",
    "sorted_desc = sorted_list_desc(8)\n",
    "random_lst = random_list(8)\n",
    "almost_sorted = almost_sorted_list(8)\n",
    "\n",
    "print(\"Отсортированный список по возрастанию:\", sorted_asc)\n",
    "print(\"Отсортированный список по убыванию:\", sorted_desc)\n",
    "print(\"Случайный список:\", random_lst)\n",
    "print(\"Почти отсортированный список по возрастанию:\", almost_sorted)\n"
   ]
  },
  {
   "cell_type": "markdown",
   "id": "bbf4762b",
   "metadata": {},
   "source": [
    "11) Реализовать функцию тестирования алгоритма сортировки. Процедура принимает на вход алгоритм сортировки и алгоритм порождения списка f_gen(list_len), генерирующий список заданной длины, количество повтороений теста и список длин использующихся для тестирования. Для каждой длины списка функция тестирования возвращает минимальное, среднее и наибольшее количество сравнений и перестановок."
   ]
  },
  {
   "cell_type": "code",
   "execution_count": 7,
   "id": "6e215437",
   "metadata": {},
   "outputs": [
    {
     "name": "stdout",
     "output_type": "stream",
     "text": [
      "Длина списка: 10\n",
      "Минимальное количество сравнений: 45\n",
      "Среднее количество сравнений: 45\n",
      "Максимальное количество сравнений: 45\n",
      "Минимальное количество перестановок: 15\n",
      "Среднее количество перестановок: 20.8\n",
      "Максимальное количество перестановок: 28\n",
      "\n",
      "Длина списка: 50\n",
      "Минимальное количество сравнений: 1225\n",
      "Среднее количество сравнений: 1225\n",
      "Максимальное количество сравнений: 1225\n",
      "Минимальное количество перестановок: 560\n",
      "Среднее количество перестановок: 616.8\n",
      "Максимальное количество перестановок: 650\n",
      "\n",
      "Длина списка: 100\n",
      "Минимальное количество сравнений: 4950\n",
      "Среднее количество сравнений: 4950\n",
      "Максимальное количество сравнений: 4950\n",
      "Минимальное количество перестановок: 2149\n",
      "Среднее количество перестановок: 2432.6\n",
      "Максимальное количество перестановок: 2622\n",
      "\n"
     ]
    }
   ],
   "source": [
    "\n",
    "import random\n",
    "import statistics\n",
    "\n",
    "# Функция для тестирования алгоритма сортировки\n",
    "def test_sorting_algorithm(sort_func, gen_func, repeat, lengths):\n",
    "    results = {}  # Словарь для хранения результатов тестирования\n",
    "\n",
    "    for length in lengths:\n",
    "        comparisons = []\n",
    "        swaps = []\n",
    "\n",
    "        for _ in range(repeat):\n",
    "            lst = gen_func(length)\n",
    "            lst_copy = lst.copy()  # Создаем копию списка для сравнения с отсортированным списком\n",
    "\n",
    "            sort_func(lst)  # Сортируем список\n",
    "\n",
    "            # Подсчитываем количество сравнений и перестановок\n",
    "            comparisons.append(sort_func.comparisons)\n",
    "            swaps.append(sort_func.swaps)\n",
    "\n",
    "            # Проверяем, что список был отсортирован правильно\n",
    "            assert lst == sorted(lst_copy), \"Сортировка неверна\"\n",
    "\n",
    "        results[length] = {\n",
    "            'min_comparisons': min(comparisons),\n",
    "            'avg_comparisons': statistics.mean(comparisons),\n",
    "            'max_comparisons': max(comparisons),\n",
    "            'min_swaps': min(swaps),\n",
    "            'avg_swaps': statistics.mean(swaps),\n",
    "            'max_swaps': max(swaps)\n",
    "        }\n",
    "\n",
    "    return results\n",
    "\n",
    "# Пример использования\n",
    "# Предположим, у нас есть алгоритм сортировки bubble_sort и функция для генерации случайного списка random_list\n",
    "def bubble_sort(arr):\n",
    "    comparisons = 0\n",
    "    swaps = 0\n",
    "    n = len(arr)\n",
    "    for i in range(n):\n",
    "        for j in range(0, n-i-1):\n",
    "            comparisons += 1\n",
    "            if arr[j] > arr[j+1]:\n",
    "                arr[j], arr[j+1] = arr[j+1], arr[j]\n",
    "                swaps += 1\n",
    "    bubble_sort.comparisons = comparisons\n",
    "    bubble_sort.swaps = swaps\n",
    "\n",
    "# Генерация списка случайных чисел\n",
    "def random_list(length):\n",
    "    return [random.randint(1, 100) for _ in range(length)]\n",
    "\n",
    "# Тестирование алгоритма сортировки bubble_sort\n",
    "lengths_to_test = [10, 50, 100]\n",
    "test_results = test_sorting_algorithm(bubble_sort, random_list, 5, lengths_to_test)\n",
    "\n",
    "for length, result in test_results.items():\n",
    "    print(f\"Длина списка: {length}\")\n",
    "    print(f\"Минимальное количество сравнений: {result['min_comparisons']}\")\n",
    "    print(f\"Среднее количество сравнений: {result['avg_comparisons']}\")\n",
    "    print(f\"Максимальное количество сравнений: {result['max_comparisons']}\")\n",
    "    print(f\"Минимальное количество перестановок: {result['min_swaps']}\")\n",
    "    print(f\"Среднее количество перестановок: {result['avg_swaps']}\")\n",
    "    print(f\"Максимальное количество перестановок: {result['max_swaps']}\")\n",
    "    print()"
   ]
  },
  {
   "cell_type": "markdown",
   "id": "6ea2eeaa",
   "metadata": {},
   "source": [
    "12) Реализовать модификацию сортировки пузырьком: \"камешек-пузырек\" - с чередующимися проходами, приводящими к \"всплытию\" самого большого значения списка и \"погружению\" самого маленького значения из неотсортированной части списка."
   ]
  },
  {
   "cell_type": "code",
   "execution_count": 8,
   "id": "9370ca54",
   "metadata": {},
   "outputs": [
    {
     "name": "stdout",
     "output_type": "stream",
     "text": [
      "Исходный список: [5, 3, 8, 1, 2]\n",
      "Отсортированный список: [1, 2, 3, 5, 8]\n"
     ]
    }
   ],
   "source": [
    "\n",
    "def stone_bubble_sort(arr):\n",
    "    n = len(arr)\n",
    "    for i in range(n//2):\n",
    "        # Проход \"всплывания\" (наибольший элемент)\n",
    "        for j in range(i, n-i-1):\n",
    "            if arr[j] > arr[j+1]:\n",
    "                arr[j], arr[j+1] = arr[j+1], arr[j]\n",
    "        \n",
    "        # Проход \"погружения\" (наименьший элемент)\n",
    "        for j in range(n-i-1, i, -1):\n",
    "            if arr[j] < arr[j-1]:\n",
    "                arr[j], arr[j-1] = arr[j-1], arr[j]\n",
    "\n",
    "# Пример использования\n",
    "arr = [5, 3, 8, 1, 2]\n",
    "print(\"Исходный список:\", arr)\n",
    "stone_bubble_sort(arr)\n",
    "print(\"Отсортированный список:\", arr)"
   ]
  },
  {
   "cell_type": "markdown",
   "id": "8da43185",
   "metadata": {},
   "source": [
    "14) Протестировать алгоритм \"пузырек\" и \"камешек-пузырек\" на разных типах списков.\n",
    "\n"
   ]
  },
  {
   "cell_type": "code",
   "execution_count": 9,
   "id": "951db5f8",
   "metadata": {},
   "outputs": [
    {
     "name": "stdout",
     "output_type": "stream",
     "text": [
      "Тестирование на отсортированном по возрастанию списке:\n",
      "Исходный список: [1, 2, 3, 4, 5, 6, 7, 8, 9, 10]\n",
      "Сортировка пузырьком: [1, 2, 3, 4, 5, 6, 7, 8, 9, 10]\n",
      "Сортировка 'камешек-пузырек': [1, 2, 3, 4, 5, 6, 7, 8, 9, 10]\n",
      "\n",
      "Тестирование на случайном списке:\n",
      "Исходный список: [4, 7, 90, 67, 3, 34, 46, 82, 38, 35]\n",
      "Сортировка пузырьком: [3, 4, 7, 34, 35, 38, 46, 67, 82, 90]\n",
      "Сортировка 'камешек-пузырек': [3, 4, 7, 34, 35, 38, 46, 67, 82, 90]\n",
      "\n",
      "Тестирование на почти отсортированном списке:\n",
      "Исходный список: [1, 2, 3, 4, 5, 7, 6, 8, 9, 10]\n",
      "Сортировка пузырьком: [1, 2, 3, 4, 5, 6, 7, 8, 9, 10]\n",
      "Сортировка 'камешек-пузырек': [1, 2, 3, 4, 5, 6, 7, 8, 9, 10]\n"
     ]
    }
   ],
   "source": [
    "\n",
    "import random\n",
    "import copy\n",
    "\n",
    "# Сортировка пузырьком\n",
    "def bubble_sort(arr):\n",
    "    n = len(arr)\n",
    "    for i in range(n):\n",
    "        for j in range(0, n-i-1):\n",
    "            if arr[j] > arr[j+1]:\n",
    "                arr[j], arr[j+1] = arr[j+1], arr[j]\n",
    "\n",
    "# \"Камешек-пузырек\"\n",
    "def stone_bubble_sort(arr):\n",
    "    n = len(arr)\n",
    "    for i in range(n//2):\n",
    "        # Проход \"всплывания\" (наибольший элемент)\n",
    "        for j in range(i, n-i-1):\n",
    "            if arr[j] > arr[j+1]:\n",
    "                arr[j], arr[j+1] = arr[j+1], arr[j]\n",
    "        \n",
    "        # Проход \"погружения\" (наименьший элемент)\n",
    "        for j in range(n-i-1, i, -1):\n",
    "            if arr[j] < arr[j-1]:\n",
    "                arr[j], arr[j-1] = arr[j-1], arr[j]\n",
    "\n",
    "\n",
    "# Функция для генерации почти отсортированного списка\n",
    "def almost_sorted_list(length):\n",
    "    lst = list(range(1, length + 1))\n",
    "    idx1, idx2 = random.sample(range(length), 2)\n",
    "    lst[idx1], lst[idx2] = lst[idx2], lst[idx1]\n",
    "    return lst\n",
    "\n",
    "# Тестирование алгоритмов\n",
    "def test_sorting_algorithms(algorithm, gen_func, list_length):\n",
    "    original_list = gen_func(list_length)\n",
    "    \n",
    "    print(\"Исходный список:\", original_list)\n",
    "    \n",
    "    sorted_list_bubble = copy.deepcopy(original_list)\n",
    "    bubble_sort(sorted_list_bubble)\n",
    "    print(\"Сортировка пузырьком:\", sorted_list_bubble)\n",
    "    \n",
    "    sorted_list_stone_bubble = copy.deepcopy(original_list)\n",
    "    stone_bubble_sort(sorted_list_stone_bubble)\n",
    "    print(\"Сортировка 'камешек-пузырек':\", sorted_list_stone_bubble)\n",
    "    \n",
    "# Пример использования\n",
    "print(\"Тестирование на отсортированном по возрастанию списке:\")\n",
    "test_sorting_algorithms(bubble_sort, sorted_list_asc, 10)\n",
    "\n",
    "print(\"\\nТестирование на случайном списке:\")\n",
    "test_sorting_algorithms(bubble_sort, random_list, 10)\n",
    "\n",
    "print(\"\\nТестирование на почти отсортированном списке:\")\n",
    "test_sorting_algorithms(bubble_sort, almost_sorted_list, 10)"
   ]
  },
  {
   "cell_type": "markdown",
   "id": "077aaa20",
   "metadata": {},
   "source": [
    "15) Реализовать модификацию сортировки выбором на основе выбора из подсписков (описанного в лекции). Протестировать алгоритм.\n",
    "\n"
   ]
  },
  {
   "cell_type": "code",
   "execution_count": 10,
   "id": "4b9fd244",
   "metadata": {},
   "outputs": [
    {
     "name": "stdout",
     "output_type": "stream",
     "text": [
      "Исходный список: [9, 3, 7, 5, 1, 4, 6, 2, 8]\n",
      "Отсортированный список: [3, 9, 7, 1, 5, 4, 2, 6, 8]\n"
     ]
    }
   ],
   "source": [
    "\n",
    "def selection_sort_sublists(arr, sublist_size):\n",
    "    n = len(arr)\n",
    "    for i in range(0, n, sublist_size):\n",
    "        sublist = arr[i:i+sublist_size]\n",
    "        min_index = i + sublist.index(min(sublist))\n",
    "        arr[i], arr[min_index] = arr[min_index], arr[i]\n",
    "\n",
    "def modified_selection_sort(arr, sublist_size):\n",
    "    n = len(arr)\n",
    "    for i in range(0, n, sublist_size):\n",
    "        sublist = arr[i:i+sublist_size]\n",
    "        min_index = i + sublist.index(min(sublist))\n",
    "        arr[i], arr[min_index] = arr[min_index], arr[i]\n",
    "\n",
    "# Тестирование модифицированного алгоритма сортировки выбором\n",
    "def test_selection_sort_sublists(arr, sublist_size):\n",
    "    print(\"Исходный список:\", arr)\n",
    "    modified_selection_sort(arr, sublist_size)\n",
    "    print(\"Отсортированный список:\", arr)\n",
    "\n",
    "# Пример использования\n",
    "arr = [9, 3, 7, 5, 1, 4, 6, 2, 8]\n",
    "sublist_size = 3\n",
    "test_selection_sort_sublists(arr, sublist_size)"
   ]
  },
  {
   "cell_type": "markdown",
   "id": "897fdcef",
   "metadata": {},
   "source": [
    "16) Реализовать быструю сортировку с возможностью подсчета операций. Сравнить производительность алгоритма на случайных и упорядоченных (и почти упорядоченных) данных."
   ]
  },
  {
   "cell_type": "code",
   "execution_count": 11,
   "id": "b8755097",
   "metadata": {},
   "outputs": [
    {
     "name": "stdout",
     "output_type": "stream",
     "text": [
      "Случайный список до сортировки: [842, 699, 928, 854, 355, 852, 279, 509, 79, 193]\n",
      "Случайный список после сортировки: [79, 193, 279, 355, 509, 699, 842, 852, 854, 928]\n",
      "Сравнений (случайный): 23\n",
      "Перестановок (случайный): 14\n",
      "\n",
      "Упорядоченный список до сортировки: [1, 2, 3, 4, 5, 6, 7, 8, 9, 10]\n",
      "Упорядоченный список после сортировки: [1, 2, 3, 4, 5, 6, 7, 8, 9, 10]\n",
      "Сравнений (упорядоченный): 45\n",
      "Перестановок (упорядоченный): 54\n",
      "\n",
      "Почти упорядоченный список до сортировки: [1, 2, 3, 5, 4, 6, 7, 8, 9, 10]\n",
      "Почти упорядоченный список после сортировки: [1, 2, 3, 4, 5, 6, 7, 8, 9, 10]\n",
      "Сравнений (почти упорядоченный): 42\n",
      "Перестановок (почти упорядоченный): 49\n"
     ]
    }
   ],
   "source": [
    "\n",
    "def quicksort(arr):\n",
    "    comparisons = [0]  # Счетчик сравнений\n",
    "    swaps = [0]  # Счетчик перестановок\n",
    "\n",
    "    def partition(arr, low, high):\n",
    "        pivot = arr[high]\n",
    "        i = low - 1\n",
    "        for j in range(low, high):\n",
    "            comparisons[0] += 1\n",
    "            if arr[j] <= pivot:\n",
    "                i += 1\n",
    "                arr[i], arr[j] = arr[j], arr[i]\n",
    "                swaps[0] += 1\n",
    "        arr[i+1], arr[high] = arr[high], arr[i+1]\n",
    "        swaps[0] += 1\n",
    "        return i+1\n",
    "\n",
    "    def quicksort_rec(arr, low, high):\n",
    "        if low < high:\n",
    "            pi = partition(arr, low, high)\n",
    "            quicksort_rec(arr, low, pi-1)\n",
    "            quicksort_rec(arr, pi+1, high)\n",
    "\n",
    "    quicksort_rec(arr, 0, len(arr)-1)\n",
    "    return comparisons[0], swaps[0]\n",
    "\n",
    "# Тестирование производительности на различных типах данных\n",
    "def test_performance(array_type, array_length):\n",
    "    if array_type == \"random\":\n",
    "        arr = [random.randint(1, 1000) for _ in range(array_length)]\n",
    "    elif array_type == \"sorted\":\n",
    "        arr = list(range(1, array_length+1))\n",
    "    elif array_type == \"almost_sorted\":\n",
    "        arr = almost_sorted_list(array_length)\n",
    "\n",
    "    # Копируем список для сохранения исходного состояния\n",
    "    arr_copy = arr.copy()\n",
    "\n",
    "    # Сортировка с подсчетом операций\n",
    "    comparisons, swaps = quicksort(arr)\n",
    "\n",
    "    return arr_copy, arr, comparisons, swaps\n",
    "\n",
    "# Пример использования\n",
    "import random\n",
    "\n",
    "# Функция для генерации почти отсортированного списка\n",
    "def almost_sorted_list(length):\n",
    "    lst = list(range(1, length + 1))\n",
    "    idx1, idx2 = random.sample(range(length), 2)\n",
    "    lst[idx1], lst[idx2] = lst[idx2], lst[idx1]\n",
    "    return lst\n",
    "\n",
    "random_array, sorted_array, almost_sorted_array = test_performance(\"random\", 10), test_performance(\"sorted\", 10), test_performance(\"almost_sorted\", 10)\n",
    "\n",
    "print(\"Случайный список до сортировки:\", random_array[0])\n",
    "print(\"Случайный список после сортировки:\", random_array[1])\n",
    "print(\"Сравнений (случайный):\", random_array[2])\n",
    "print(\"Перестановок (случайный):\", random_array[3])\n",
    "print()\n",
    "print(\"Упорядоченный список до сортировки:\", sorted_array[0])\n",
    "print(\"Упорядоченный список после сортировки:\", sorted_array[1])\n",
    "print(\"Сравнений (упорядоченный):\", sorted_array[2])\n",
    "print(\"Перестановок (упорядоченный):\", sorted_array[3])\n",
    "print()\n",
    "print(\"Почти упорядоченный список до сортировки:\", almost_sorted_array[0])\n",
    "print(\"Почти упорядоченный список после сортировки:\", almost_sorted_array[1])\n",
    "print(\"Сравнений (почти упорядоченный):\", almost_sorted_array[2])\n",
    "print(\"Перестановок (почти упорядоченный):\", almost_sorted_array[3])"
   ]
  },
  {
   "cell_type": "markdown",
   "id": "2ce64dd6",
   "metadata": {},
   "source": [
    "17) Улучшить работу быстрой сортировки на упорядоченных и почти упорядоченных за счет изменения алгоритма выбора элемента для разделения массива."
   ]
  },
  {
   "cell_type": "code",
   "execution_count": 12,
   "id": "f049bb1b",
   "metadata": {},
   "outputs": [
    {
     "name": "stdout",
     "output_type": "stream",
     "text": [
      "Упорядоченный список до сортировки: [1, 2, 3, 4, 5, 6, 7, 8, 9, 10]\n",
      "Упорядоченный список после сортировки: [1, 2, 3, 4, 5, 6, 7, 8, 9, 10]\n",
      "Сравнений (упорядоченный): 19\n",
      "Перестановок (упорядоченный): 19\n",
      "\n",
      "Почти упорядоченный список до сортировки: [1, 2, 3, 4, 5, 6, 7, 10, 9, 8]\n",
      "Почти упорядоченный список после сортировки: [1, 2, 3, 4, 5, 6, 7, 8, 9, 10]\n",
      "Сравнений (почти упорядоченный): 21\n",
      "Перестановок (почти упорядоченный): 22\n"
     ]
    }
   ],
   "source": [
    "\n",
    "def improved_quicksort(arr):\n",
    "    comparisons = [0]  # Счетчик сравнений\n",
    "    swaps = [0]  # Счетчик перестановок\n",
    "\n",
    "    def partition(arr, low, high):\n",
    "        # Выбор среднего элемента в качестве опорного\n",
    "        pivot_idx = (low + high) // 2\n",
    "        pivot = arr[pivot_idx]\n",
    "\n",
    "        arr[pivot_idx], arr[high] = arr[high], arr[pivot_idx]\n",
    "        swaps[0] += 1\n",
    "\n",
    "        i = low - 1\n",
    "        for j in range(low, high):\n",
    "            comparisons[0] += 1\n",
    "            if arr[j] <= pivot:\n",
    "                i += 1\n",
    "                arr[i], arr[j] = arr[j], arr[i]\n",
    "                swaps[0] += 1\n",
    "        arr[i+1], arr[high] = arr[high], arr[i+1]\n",
    "        swaps[0] += 1\n",
    "        return i+1\n",
    "\n",
    "    def quicksort_rec(arr, low, high):\n",
    "        if low < high:\n",
    "            pi = partition(arr, low, high)\n",
    "            quicksort_rec(arr, low, pi-1)\n",
    "            quicksort_rec(arr, pi+1, high)\n",
    "\n",
    "    quicksort_rec(arr, 0, len(arr)-1)\n",
    "    return comparisons[0], swaps[0]\n",
    "\n",
    "# Тестирование производительности на упорядоченных и почти упорядоченных данных\n",
    "def test_improved_quicksort(array_type, array_length):\n",
    "    if array_type == \"sorted\":\n",
    "        arr = list(range(1, array_length+1))\n",
    "    elif array_type == \"almost_sorted\":\n",
    "        arr = almost_sorted_list(array_length)\n",
    "\n",
    "    # Копируем список для сохранения исходного состояния\n",
    "    arr_copy = arr.copy()\n",
    "\n",
    "    # Сортировка с подсчетом операций\n",
    "    comparisons, swaps = improved_quicksort(arr)\n",
    "\n",
    "    return arr_copy, arr, comparisons, swaps\n",
    "\n",
    "# Пример использования\n",
    "import random\n",
    "\n",
    "# Функция для генерации почти отсортированного списка\n",
    "def almost_sorted_list(length):\n",
    "    lst = list(range(1, length + 1))\n",
    "    idx1, idx2 = random.sample(range(length), 2)\n",
    "    lst[idx1], lst[idx2] = lst[idx2], lst[idx1]\n",
    "    return lst\n",
    "\n",
    "sorted_array, almost_sorted_array = test_improved_quicksort(\"sorted\", 10), test_improved_quicksort(\"almost_sorted\", 10)\n",
    "\n",
    "print(\"Упорядоченный список до сортировки:\", sorted_array[0])\n",
    "print(\"Упорядоченный список после сортировки:\", sorted_array[1])\n",
    "print(\"Сравнений (упорядоченный):\", sorted_array[2])\n",
    "print(\"Перестановок (упорядоченный):\", sorted_array[3])\n",
    "print()\n",
    "print(\"Почти упорядоченный список до сортировки:\", almost_sorted_array[0])\n",
    "print(\"Почти упорядоченный список после сортировки:\", almost_sorted_array[1])\n",
    "print(\"Сравнений (почти упорядоченный):\", almost_sorted_array[2])\n",
    "print(\"Перестановок (почти упорядоченный):\", almost_sorted_array[3])\n"
   ]
  },
  {
   "cell_type": "markdown",
   "id": "5eb63010",
   "metadata": {},
   "source": [
    "18) Реализовать эффективный алгоритм получения из большого количества отсортированных списков одного отсортированного списка."
   ]
  },
  {
   "cell_type": "code",
   "execution_count": 13,
   "id": "ad5b5271",
   "metadata": {},
   "outputs": [
    {
     "name": "stdout",
     "output_type": "stream",
     "text": [
      "Объединенный отсортированный список: [0, 1, 2, 3, 4, 5, 6, 7, 8, 9, 10, 11]\n"
     ]
    }
   ],
   "source": [
    "\n",
    "def merge_sorted_lists(lists):\n",
    "    merged_list = []\n",
    "    while any(lists):\n",
    "        min_val = float('inf')\n",
    "        min_idx = -1\n",
    "        for i, lst in enumerate(lists):\n",
    "            if lst and lst[0] < min_val:\n",
    "                min_val = lst[0]\n",
    "                min_idx = i\n",
    "        merged_list.append(min_val)\n",
    "        lists[min_idx].pop(0)\n",
    "    return merged_list\n",
    "\n",
    "# Пример использования\n",
    "list1 = [1, 3, 5, 7]\n",
    "list2 = [2, 4, 6, 8]\n",
    "list3 = [0, 9, 10, 11]\n",
    "merged_list = merge_sorted_lists([list1, list2, list3])\n",
    "\n",
    "print(\"Объединенный отсортированный список:\", merged_list)"
   ]
  },
  {
   "cell_type": "markdown",
   "id": "0d5dfebe",
   "metadata": {},
   "source": [
    "19) Модифицировать последовательность длин шагов в сортировке Шелла. 19) Модифицировать последовательность длин шагов в сортировке Шелла.\n",
    "На 2[𝑛/2𝑘+1]+1\n",
    "\n",
    "т.е. при первой сортировке будут использоваться шаги: 2[n/4]+1, 2[n/8]+1, ... , 3, 1 .\n"
   ]
  },
  {
   "cell_type": "code",
   "execution_count": 14,
   "id": "fb8ebfa2",
   "metadata": {},
   "outputs": [
    {
     "name": "stdout",
     "output_type": "stream",
     "text": [
      "Отсортированный список: [3, 12, 1, 7, 34, 9, 23, 45, 10, 56]\n"
     ]
    }
   ],
   "source": [
    "\n",
    "def shell_sort_modified(arr):\n",
    "    n = len(arr)\n",
    "    k = 1\n",
    "    while 2*(n//2**k) + 1 > 1:  # Вычисляем количество шагов k\n",
    "        k += 1\n",
    "\n",
    "    gaps = [2*(n//2**i) + 1 for i in range(k-1, -1, -1)]  # Формируем последовательность шагов\n",
    "\n",
    "    for gap in gaps:\n",
    "        for i in range(gap, n):\n",
    "            temp = arr[i]\n",
    "            j = i\n",
    "            while j >= gap and arr[j - gap] > temp:\n",
    "                arr[j] = arr[j - gap]\n",
    "                j -= gap\n",
    "            arr[j] = temp\n",
    "\n",
    "# Пример использования\n",
    "arr = [12, 34, 10, 7, 23, 1, 3, 45, 9, 56]\n",
    "shell_sort_modified(arr)\n",
    "print(\"Отсортированный список:\", arr)\n"
   ]
  },
  {
   "cell_type": "code",
   "execution_count": null,
   "id": "63dc4a62",
   "metadata": {},
   "outputs": [],
   "source": []
  }
 ],
 "metadata": {
  "kernelspec": {
   "display_name": "Python 3 (ipykernel)",
   "language": "python",
   "name": "python3"
  },
  "language_info": {
   "codemirror_mode": {
    "name": "ipython",
    "version": 3
   },
   "file_extension": ".py",
   "mimetype": "text/x-python",
   "name": "python",
   "nbconvert_exporter": "python",
   "pygments_lexer": "ipython3",
   "version": "3.9.13"
  }
 },
 "nbformat": 4,
 "nbformat_minor": 5
}
