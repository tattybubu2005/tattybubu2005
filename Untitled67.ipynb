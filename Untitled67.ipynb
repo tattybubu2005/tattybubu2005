{
 "cells": [
  {
   "cell_type": "code",
   "execution_count": 2,
   "id": "92525684",
   "metadata": {},
   "outputs": [
    {
     "name": "stdout",
     "output_type": "stream",
     "text": [
      "[1, 3, 3, 2, 1, 3]\n"
     ]
    }
   ],
   "source": [
    "#1 \n",
    "\n",
    "l1 = ['1', '123', '123', '12', '1', '123']\n",
    "result = [len(x) for x in l1]\n",
    "print(result)"
   ]
  },
  {
   "cell_type": "code",
   "execution_count": 4,
   "id": "2c048aad",
   "metadata": {},
   "outputs": [
    {
     "name": "stdout",
     "output_type": "stream",
     "text": [
      "3\n"
     ]
    }
   ],
   "source": [
    "#2\n",
    "\n",
    "l1 = ['1', '123', '123', '12', '1', '123']\n",
    "count = sum(1 for s in l1 if len(s) > 2)  #Создаем переменную,для подсчета кол-во строк длина кот-ых больше 2x\n",
    "print(count)\n"
   ]
  },
  {
   "cell_type": "code",
   "execution_count": 14,
   "id": "bf8fdd60",
   "metadata": {},
   "outputs": [
    {
     "name": "stdout",
     "output_type": "stream",
     "text": [
      "[2, 4, 0, 11, 3]\n"
     ]
    }
   ],
   "source": [
    "#4\n",
    "\n",
    "l2 = [2, 4, -2, -3, 0 , 11 , 3, -1]\n",
    "new_list = [x for x in l2 if x >= 0]  #\n",
    "print(new_list)"
   ]
  },
  {
   "cell_type": "code",
   "execution_count": 38,
   "id": "25eac742",
   "metadata": {},
   "outputs": [
    {
     "name": "stdout",
     "output_type": "stream",
     "text": [
      "[2, 4, 2, 3, 0, 11, 3, 7]\n"
     ]
    }
   ],
   "source": [
    "#5\n",
    "\n",
    "l2 = [2, 4, -2, -3, 0 , 11 , 3, -1]\n",
    "l3 = [x if x >= 0 else l2.index (x) for x in l2] # Генератор списка для создания нового списка l3 на основе списка l2\n",
    "print(l3)"
   ]
  },
  {
   "cell_type": "code",
   "execution_count": 16,
   "id": "44fa5878",
   "metadata": {},
   "outputs": [
    {
     "name": "stdout",
     "output_type": "stream",
     "text": [
      "{'a': 1, 'b': 2, 'c': 3, 'd': 4, 'e': 5, 'f': 6}\n"
     ]
    }
   ],
   "source": [
    "#6\n",
    "\n",
    "string = 'abcdef'\n",
    "dictionary = {c: i+1 for i, c in enumerate(string)}\n",
    "print(dictionary)\n",
    "\n"
   ]
  },
  {
   "cell_type": "code",
   "execution_count": 32,
   "id": "a1117684",
   "metadata": {},
   "outputs": [
    {
     "name": "stdout",
     "output_type": "stream",
     "text": [
      "{'e': 20, 'f': 21, 'g': 22, 'h': 23, 'i': 24, 'j': 25, 'k': 26, 'l': 27}\n"
     ]
    }
   ],
   "source": [
    "#11\n",
    "\n",
    "d5 = {'a': 3, 'b': 4, 'c': 5, 'd': 6, 'e': 7, 'f': 8, 'g': 9}\n",
    "d6 = {'e': 20, 'f': 21, 'g': 22, 'h': 23, 'i': 24, 'j': 25, 'k': 26, 'l': 27}\n",
    "\n",
    "d7 = {key: value for key, value in d6.items() if (key, value) not in d5.items()}\n",
    "print(d7)\n"
   ]
  },
  {
   "cell_type": "code",
   "execution_count": 57,
   "id": "31f2a826",
   "metadata": {},
   "outputs": [
    {
     "name": "stdout",
     "output_type": "stream",
     "text": [
      "{'a': 3, 'b': 4, 'c': 5, 'd': 6, 'e': 7, 'f': 8, 'g': 9, 'h': 23, 'i': 24, 'j': 25, 'k': 26, 'l': 27}\n"
     ]
    }
   ],
   "source": [
    "#12\n",
    "\n",
    "d5 = {'a': 3, 'b': 4, 'c': 5, 'd': 6, 'e': 7, 'f': 8, 'g': 9}\n",
    "d6 = {'e': 20, 'f': 21, 'g': 22, 'h': 23, 'i': 24, 'j': 25, 'k': 26, 'l': 27}\n",
    "\n",
    "d8 = {key: d5 [key] for key in d5}\n",
    "d8.update({key: d6[key] for key in d6 if key not in d5})\n",
    "print(d8)"
   ]
  },
  {
   "cell_type": "code",
   "execution_count": null,
   "id": "e84aa1a7",
   "metadata": {},
   "outputs": [],
   "source": []
  }
 ],
 "metadata": {
  "kernelspec": {
   "display_name": "Python 3 (ipykernel)",
   "language": "python",
   "name": "python3"
  },
  "language_info": {
   "codemirror_mode": {
    "name": "ipython",
    "version": 3
   },
   "file_extension": ".py",
   "mimetype": "text/x-python",
   "name": "python",
   "nbconvert_exporter": "python",
   "pygments_lexer": "ipython3",
   "version": "3.9.13"
  }
 },
 "nbformat": 4,
 "nbformat_minor": 5
}
