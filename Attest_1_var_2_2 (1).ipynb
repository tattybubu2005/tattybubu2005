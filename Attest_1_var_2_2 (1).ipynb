{
 "cells": [
  {
   "cell_type": "markdown",
   "metadata": {},
   "source": [
    "## Студент :Таттыбубу Бактыбаева, группа:ИД23-2\n",
    "\n",
    "## Контрольная работа №1 \n",
    "\n",
    "#### Вариант 2"
   ]
  },
  {
   "cell_type": "markdown",
   "metadata": {},
   "source": [
    "1. Имеется список названий месяцев: [‘января’, ‘февраля’, ‘марта’, ‘апреля’, ’мая’, \n",
    "‘июня’, ‘июля’, ‘августа’, ‘сентября’, ‘октября’, ‘ноября’, ‘декабря’]. Создайте по этому \n",
    "списку словарь, в котором название месяца будет ключом, а номер месяца (от 1 до 12) –\n",
    "значением. Используя полученный словарь преобразуйте строку с датой вида «1 января \n",
    "2021» в строку «1.01.2021»"
   ]
  },
  {
   "cell_type": "code",
   "execution_count": 1,
   "metadata": {},
   "outputs": [
    {
     "name": "stdout",
     "output_type": "stream",
     "text": [
      "1.01.2021\n"
     ]
    }
   ],
   "source": [
    "months = ['января', 'февраля', 'марта', 'апреля', 'мая', 'июня', 'июля', 'августа', 'сентября', 'октября', 'ноября', 'декабря']\n",
    "\n",
    "month_dict = {month: str(index + 1).zfill(2) for index, month in enumerate(months)}\n",
    "\n",
    "date = \"1 января 2021\"\n",
    "day, month_name, year = date.split()\n",
    "\n",
    "month_number = month_dict[month_name]\n",
    "\n",
    "formatted_date = f\"{day}.{month_number}.{year}\"\n",
    "print(formatted_date)\n"
   ]
  },
  {
   "cell_type": "markdown",
   "metadata": {},
   "source": [
    "2. Имеется строка с названиями товаров вида «яблоки, груши, яблоки, киви, сливы, \n",
    "киви». Товары перечислены через запятую, товары могут повторяться. Выведите название \n",
    "товара, который встречается в этой строке чаще всего. Если таких товаров несколько, то \n",
    "названия всех товаров."
   ]
  },
  {
   "cell_type": "code",
   "execution_count": 2,
   "metadata": {},
   "outputs": [
    {
     "name": "stdout",
     "output_type": "stream",
     "text": [
      "Название товара(ов), которые встречаются чаще всего: яблоки, киви\n"
     ]
    }
   ],
   "source": [
    "from collections import Counter\n",
    "\n",
    "products = \"яблоки, груши, яблоки, киви, сливы, киви\"\n",
    "\n",
    "product_list = products.split(\", \")\n",
    "\n",
    "counter = Counter(product_list)\n",
    "\n",
    "most_common_products = [product for product, count in counter.items() if count == counter.most_common(1)[0][1]]\n",
    "\n",
    "print(\"Название товара(ов), которые встречаются чаще всего:\", \", \".join(most_common_products))"
   ]
  },
  {
   "cell_type": "markdown",
   "metadata": {},
   "source": [
    "3. Имеется предложение, слова в котором, разделяются пробелами. С помощью списков получить слово, состоящее из первых букв слов в предложении."
   ]
  },
  {
   "cell_type": "code",
   "execution_count": 3,
   "metadata": {},
   "outputs": [
    {
     "name": "stdout",
     "output_type": "stream",
     "text": [
      "Слово, состоящее из первых букв слов в предложении: Ипсвкрп\n"
     ]
    }
   ],
   "source": [
    "sentence = \"Имеется предложение, слова в котором, разделяются пробелами\"\n",
    "\n",
    "words = sentence.split()\n",
    "\n",
    "first_letters = [word[0] for word in words]\n",
    "\n",
    "result = \"\".join(first_letters)\n",
    "\n",
    "print(\"Слово, состоящее из первых букв слов в предложении:\", result)"
   ]
  },
  {
   "cell_type": "markdown",
   "metadata": {},
   "source": [
    "4. Имеется переменная listlist, содержащая список списков. Заранее неизвестно, сколько в \n",
    "переменной списков и какой они длины (их длины в общем случае различны). Из этих списков \n",
    "составить список, содержащий поочередно элементы каждого из вложенных списков, при этом, \n",
    "порядок этих элементов сохраняется. Процедура создания списка останавливается, когда хотя \n",
    "бы в одном из исходных вложенных списков будут использованные все элементы. Кроме \n",
    "составленного списка получить список из всех элементов, не вошедших в составленный список. \n",
    "Пример: listlist =[[1,2,3],['a', 'b'], [30, 40, 50, 60]] -> [1, 'a', 30, 2, 'b', 40], [3, 50, 60]"
   ]
  },
  {
   "cell_type": "code",
   "execution_count": 5,
   "metadata": {},
   "outputs": [
    {
     "name": "stdout",
     "output_type": "stream",
     "text": [
      "Составленный список: [1, 'a', 30, 2, 'b', 40, 3]\n",
      "Невошедшие элементы: []\n"
     ]
    }
   ],
   "source": [
    "listlist = [[1, 2, 3], ['a', 'b'], [30, 40, 50, 60]]\n",
    "\n",
    "result_list = []\n",
    "remaining_elements = []\n",
    "\n",
    "max_length = max(len(sublist) for sublist in listlist)\n",
    "\n",
    "for i in range(max_length):\n",
    "    for sublist in listlist:\n",
    "        if i < len(sublist):\n",
    "            result_list.append(sublist[i])\n",
    "        else:\n",
    "            remaining_elements.extend(sublist[i:])\n",
    "            break\n",
    "\n",
    "print(\"Составленный список:\", result_list)\n",
    "print(\"Невошедшие элементы:\", remaining_elements)"
   ]
  },
  {
   "cell_type": "code",
   "execution_count": null,
   "metadata": {},
   "outputs": [],
   "source": []
  }
 ],
 "metadata": {
  "kernelspec": {
   "display_name": "Python 3 (ipykernel)",
   "language": "python",
   "name": "python3"
  },
  "language_info": {
   "codemirror_mode": {
    "name": "ipython",
    "version": 3
   },
   "file_extension": ".py",
   "mimetype": "text/x-python",
   "name": "python",
   "nbconvert_exporter": "python",
   "pygments_lexer": "ipython3",
   "version": "3.9.13"
  }
 },
 "nbformat": 4,
 "nbformat_minor": 4
}
