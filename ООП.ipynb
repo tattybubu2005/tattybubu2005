{
 "cells": [
  {
   "cell_type": "markdown",
   "id": "555d867a",
   "metadata": {},
   "source": [
    "Класс – натуральная дробь. Методы класса – сумма, разность, произведение, частное натуральных дробей. Поля класса – числитель и знаменатель дроби."
   ]
  },
  {
   "cell_type": "code",
   "execution_count": 4,
   "id": "c9b8a857",
   "metadata": {},
   "outputs": [
    {
     "name": "stdout",
     "output_type": "stream",
     "text": [
      "10/8\n",
      "-2/8\n",
      "3/8\n",
      "4/6\n"
     ]
    }
   ],
   "source": [
    "class Fraction:\n",
    "    def __init__(self, numerator, denominator):\n",
    "        self.numerator = numerator\n",
    "        self.denominator = denominator\n",
    "\n",
    "    def add(self, fraction):\n",
    "        result_numerator = self.numerator*fraction.denominator + fraction.numerator*self.denominator\n",
    "        result_denominator = self.denominator*fraction.denominator\n",
    "        return Fraction(result_numerator, result_denominator)\n",
    "\n",
    "    def subtract(self, fraction):\n",
    "        result_numerator = self.numerator*fraction.denominator - fraction.numerator*self.denominator\n",
    "        result_denominator = self.denominator*fraction.denominator\n",
    "        return Fraction(result_numerator, result_denominator)\n",
    "\n",
    "    def multiply(self, fraction):\n",
    "        result_numerator = self.numerator*fraction.numerator\n",
    "        result_denominator = self.denominator*fraction.denominator\n",
    "        return Fraction(result_numerator, result_denominator)\n",
    "\n",
    "    def divide(self, fraction):\n",
    "        result_numerator = self.numerator*fraction.denominator\n",
    "        result_denominator = self.denominator*fraction.numerator\n",
    "        return Fraction(result_numerator, result_denominator)\n",
    "\n",
    "    def __str__(self):\n",
    "        return str(self.numerator) + \"/\" + str(self.denominator)\n",
    "\n",
    "# Пример использования класса\n",
    "fraction1 = Fraction(1, 2)\n",
    "fraction2 = Fraction(3, 4)\n",
    "print(fraction1.add(fraction2))\n",
    "print(fraction1.subtract(fraction2))\n",
    "print(fraction1.multiply(fraction2))\n",
    "print(fraction1.divide(fraction2))\n"
   ]
  },
  {
   "cell_type": "markdown",
   "id": "af3f5327",
   "metadata": {},
   "source": [
    "Опишите класс Rectangle, заданный длинами сторон. Включите в описа-ние класса методы, позволяющие вывести длины сторон прямоугольника на экран, рассчитать периметр, площадь и диагональ прямоугольника, изменить его размеры, умножив его длины на скаляр, и свойство, позволяющее установить, является ли данный прямоугольник квадратом."
   ]
  },
  {
   "cell_type": "code",
   "execution_count": 1,
   "id": "4ab21a62",
   "metadata": {},
   "outputs": [
    {
     "name": "stdout",
     "output_type": "stream",
     "text": [
      "Width: 5\n",
      "Height: 7\n",
      "Perimeter: 24\n",
      "Area: 35\n",
      "Diagonal: 8.602325267042627\n",
      "Is square: False\n",
      "Width: 10\n",
      "Height: 14\n",
      "Perimeter: 48\n",
      "Area: 140\n",
      "Diagonal: 17.204650534085253\n",
      "Is square: False\n"
     ]
    }
   ],
   "source": [
    "class Rectangle:\n",
    "    def __init__(self, width, height):\n",
    "        self.width = width\n",
    "        self.height = height\n",
    "\n",
    "    def display_sides(self):\n",
    "        print(\"Width:\", self.width)\n",
    "        print(\"Height:\", self.height)\n",
    "\n",
    "    def calculate_perimeter(self):\n",
    "        return 2 * (self.width + self.height)\n",
    "\n",
    "    def calculate_area(self):\n",
    "        return self.width * self.height\n",
    "\n",
    "    def calculate_diagonal(self):\n",
    "        return (self.width ** 2 + self.height ** 2) ** 0.5\n",
    "\n",
    "    def resize(self, scalar):\n",
    "        self.width *= scalar\n",
    "        self.height *= scalar\n",
    "\n",
    "    @property\n",
    "    def is_square(self):\n",
    "        return self.width == self.height\n",
    "\n",
    "\n",
    "# Пример использования класса Rectangle\n",
    "rect = Rectangle(5, 7)\n",
    "rect.display_sides()\n",
    "print(\"Perimeter:\", rect.calculate_perimeter())\n",
    "print(\"Area:\", rect.calculate_area())\n",
    "print(\"Diagonal:\", rect.calculate_diagonal())\n",
    "print(\"Is square:\", rect.is_square)\n",
    "\n",
    "rect.resize(2)\n",
    "rect.display_sides()\n",
    "print(\"Perimeter:\", rect.calculate_perimeter())\n",
    "print(\"Area:\", rect.calculate_area())\n",
    "print(\"Diagonal:\", rect.calculate_diagonal())\n",
    "print(\"Is square:\", rect.is_square)\n"
   ]
  },
  {
   "cell_type": "markdown",
   "id": "1a24ac31",
   "metadata": {},
   "source": [
    "Создайте класс ТРЕУГОЛЬНИК, заданный длинами двух сторон и угла между ними, с методами вычисления площади и периметра треугольника, а также методом, выводящим информацию о фигуре на экран. Создайте дочерние классы ПРЯМОУГОЛЬНЫЙ, РАВНОБЕДРЕННЫЙ, РАВНОСТОРОННИЙ со своими методами вычисления площади и периметра. Создайте список  n  треугольников и выведите полную информацию о треугольниках на экран."
   ]
  },
  {
   "cell_type": "code",
   "execution_count": 2,
   "id": "4df9af06",
   "metadata": {},
   "outputs": [
    {
     "name": "stdout",
     "output_type": "stream",
     "text": [
      "Triangle with sides 3 and 4 and angle 30\n",
      "Area: 2.9999999999999996\n",
      "Perimeter: 9.053141570660307\n",
      "\n",
      "Triangle with sides 5 and 12 and angle 90\n",
      "Area: 30.0\n",
      "Perimeter: 30.0\n",
      "\n",
      "Triangle with sides 5 and 6 and angle 45\n",
      "Area: 10.606601717798213\n",
      "Perimeter: 16\n",
      "\n",
      "Triangle with sides 4 and 4 and angle 60\n",
      "Area: 6.928203230275509\n",
      "Perimeter: 12\n",
      "\n",
      "Triangle with sides 7 and 8 and angle 20\n",
      "Area: 9.576564013118723\n",
      "Perimeter: 17.784677085763853\n",
      "\n"
     ]
    }
   ],
   "source": [
    "\n",
    "import math\n",
    "\n",
    "class Triangle:\n",
    "    def __init__(self, side1, side2, angle):\n",
    "        self.side1 = side1\n",
    "        self.side2 = side2\n",
    "        self.angle = angle\n",
    "\n",
    "    def get_area(self):\n",
    "        return 0.5 * self.side1 * self.side2 * math.sin(math.radians(self.angle))\n",
    "\n",
    "    def get_perimeter(self):\n",
    "        return self.side1 + self.side2 + math.sqrt(self.side1**2 + self.side2**2 - 2*self.side1*self.side2*math.cos(math.radians(self.angle)))\n",
    "\n",
    "    def display_info(self):\n",
    "        print(\"Triangle with sides\", self.side1, \"and\", self.side2, \"and angle\", self.angle)\n",
    "\n",
    "class RightTriangle(Triangle):\n",
    "    def __init__(self, side1, side2, angle):\n",
    "        super().__init__(side1, side2, angle)\n",
    "\n",
    "    def get_area(self):\n",
    "        return 0.5 * self.side1 * self.side2\n",
    "\n",
    "    def get_perimeter(self):\n",
    "        return self.side1 + self.side2 + math.sqrt(self.side1**2 + self.side2**2)\n",
    "    \n",
    "class IsoscelesTriangle(Triangle):\n",
    "    def __init__(self, side1, side2, angle):\n",
    "        super().__init__(side1, side2, angle)\n",
    "\n",
    "    def get_area(self):\n",
    "        return 0.5 * self.side1 * self.side2 * math.sin(math.radians(self.angle))\n",
    "\n",
    "    def get_perimeter(self):\n",
    "        return 2*self.side1 + self.side2\n",
    "\n",
    "class EquilateralTriangle(Triangle):\n",
    "    def __init__(self, side1, side2, angle):\n",
    "        super().__init__(side1, side2, angle)\n",
    "\n",
    "    def get_area(self):\n",
    "        return (math.sqrt(3)/4) * self.side1**2\n",
    "\n",
    "    def get_perimeter(self):\n",
    "        return 3 * self.side1\n",
    "\n",
    "# Создание списка треугольников\n",
    "n = 5\n",
    "triangles = [Triangle(3, 4, 30), RightTriangle(5, 12, 90), IsoscelesTriangle(5, 6, 45),\n",
    "             EquilateralTriangle(4, 4, 60), Triangle(7, 8, 20)]\n",
    "\n",
    "# Вывод информации о треугольниках\n",
    "for triangle in triangles:\n",
    "    triangle.display_info()\n",
    "    print(\"Area:\", triangle.get_area())\n",
    "    print(\"Perimeter:\", triangle.get_perimeter())\n",
    "    print()\n"
   ]
  },
  {
   "cell_type": "code",
   "execution_count": null,
   "id": "7506261f",
   "metadata": {},
   "outputs": [],
   "source": []
  }
 ],
 "metadata": {
  "kernelspec": {
   "display_name": "Python 3 (ipykernel)",
   "language": "python",
   "name": "python3"
  },
  "language_info": {
   "codemirror_mode": {
    "name": "ipython",
    "version": 3
   },
   "file_extension": ".py",
   "mimetype": "text/x-python",
   "name": "python",
   "nbconvert_exporter": "python",
   "pygments_lexer": "ipython3",
   "version": "3.9.13"
  }
 },
 "nbformat": 4,
 "nbformat_minor": 5
}
