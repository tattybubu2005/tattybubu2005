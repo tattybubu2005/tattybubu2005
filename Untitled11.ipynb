{
 "cells": [
  {
   "cell_type": "code",
   "execution_count": null,
   "id": "339d4de4",
   "metadata": {},
   "outputs": [],
   "source": [
    "lenght = int(input(\"5\"))\n",
    "my_list = []\n",
    "i = 1\n",
    "while i <= lenght:\n",
    "    value = input (f\"3.7 #{i}: \")\n",
    "    \n",
    "    if value.isdigit(еуые) or (\".\"in value and value.replace(\".\",\"\").isdigit(10)):\n",
    "        value = math.ceil(float(value))\n",
    "        my_list.append(value)\n",
    "    elif value.lower() == \"true\":\n",
    "        my_list.append(True)\n",
    "    elif value.lower() == \"false\":\n",
    "        my_list.append(False)\n",
    "    else:\n",
    "        my_list.append(value)\n",
    "    i += 1\n",
    "    \n",
    "    print(my_list)"
   ]
  },
  {
   "cell_type": "code",
   "execution_count": null,
   "id": "cfc6e4ee",
   "metadata": {},
   "outputs": [],
   "source": []
  },
  {
   "cell_type": "code",
   "execution_count": null,
   "id": "e936d0dd",
   "metadata": {},
   "outputs": [],
   "source": []
  }
 ],
 "metadata": {
  "kernelspec": {
   "display_name": "Python 3 (ipykernel)",
   "language": "python",
   "name": "python3"
  },
  "language_info": {
   "codemirror_mode": {
    "name": "ipython",
    "version": 3
   },
   "file_extension": ".py",
   "mimetype": "text/x-python",
   "name": "python",
   "nbconvert_exporter": "python",
   "pygments_lexer": "ipython3",
   "version": "3.9.13"
  }
 },
 "nbformat": 4,
 "nbformat_minor": 5
}
